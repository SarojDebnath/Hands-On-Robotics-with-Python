{
 "cells": [
  {
   "cell_type": "code",
   "execution_count": 1,
   "id": "43fc15ce-1b72-4291-bbb4-16075d2c61a0",
   "metadata": {},
   "outputs": [
    {
     "name": "stdout",
     "output_type": "stream",
     "text": [
      "UR Socket Control\n",
      "version:--> 0.2\n",
      "WARNING: This package is only tested in eSeries for UR10e and UR5e with 5.12 Polyscope version.\n"
     ]
    }
   ],
   "source": [
    "import URsocket.robotiq as robotiq\n",
    "rq=robotiq.RobotiqGripper()\n",
    "rq.connect('192.168.1.151')"
   ]
  },
  {
   "cell_type": "code",
   "execution_count": 3,
   "id": "49ecbd50-1949-436d-a502-f36ab1e08c3b",
   "metadata": {},
   "outputs": [
    {
     "name": "stdout",
     "output_type": "stream",
     "text": [
      "True\n"
     ]
    }
   ],
   "source": [
    "print(rq.rq_is_connected())"
   ]
  },
  {
   "cell_type": "code",
   "execution_count": 4,
   "id": "8f829f92-41de-4a8d-8722-3bd1c9823bbe",
   "metadata": {},
   "outputs": [
    {
     "name": "stdout",
     "output_type": "stream",
     "text": [
      "Gripper auto-calibrated to [3, 248]\n"
     ]
    }
   ],
   "source": [
    "rq.activate()"
   ]
  },
  {
   "cell_type": "code",
   "execution_count": 5,
   "id": "122a3192-1f5a-448b-b041-dfc40d848564",
   "metadata": {},
   "outputs": [
    {
     "name": "stdout",
     "output_type": "stream",
     "text": [
      "True\n"
     ]
    }
   ],
   "source": [
    "print(rq.is_active())"
   ]
  },
  {
   "cell_type": "code",
   "execution_count": 13,
   "id": "c42b9bae-5400-48f7-9e83-254d7dc7ccc9",
   "metadata": {},
   "outputs": [
    {
     "data": {
      "text/plain": [
       "(True, 3)"
      ]
     },
     "execution_count": 13,
     "metadata": {},
     "output_type": "execute_result"
    }
   ],
   "source": [
    "rq.move(0,255,255)"
   ]
  },
  {
   "cell_type": "code",
   "execution_count": 14,
   "id": "24193529-d8f3-40ca-b645-4bb5300c0e5a",
   "metadata": {},
   "outputs": [
    {
     "name": "stdout",
     "output_type": "stream",
     "text": [
      "True\n"
     ]
    }
   ],
   "source": [
    "print(rq.is_open())"
   ]
  },
  {
   "cell_type": "code",
   "execution_count": 15,
   "id": "dc6dc096-307c-4c74-aa6c-585df4679eb6",
   "metadata": {},
   "outputs": [
    {
     "name": "stdout",
     "output_type": "stream",
     "text": [
      "False\n"
     ]
    }
   ],
   "source": [
    "print(rq.is_closed())"
   ]
  },
  {
   "cell_type": "code",
   "execution_count": 16,
   "id": "2fd18451-1228-45f4-93bc-eb975cb880f4",
   "metadata": {},
   "outputs": [
    {
     "name": "stdout",
     "output_type": "stream",
     "text": [
      "Min_Position:  3\n",
      "Max Position 248\n",
      "Open Position 3\n"
     ]
    }
   ],
   "source": [
    "print('Min_Position: ',rq.get_min_position())\n",
    "print('Max Position',rq.get_max_position())\n",
    "print('Open Position',rq.get_open_position())"
   ]
  },
  {
   "cell_type": "code",
   "execution_count": null,
   "id": "0f1ca687-f2fd-4ccc-b222-74ada219f44a",
   "metadata": {},
   "outputs": [],
   "source": [
    "print(rq.get_current_position())"
   ]
  }
 ],
 "metadata": {
  "kernelspec": {
   "display_name": "Python 3 (ipykernel)",
   "language": "python",
   "name": "python3"
  },
  "language_info": {
   "codemirror_mode": {
    "name": "ipython",
    "version": 3
   },
   "file_extension": ".py",
   "mimetype": "text/x-python",
   "name": "python",
   "nbconvert_exporter": "python",
   "pygments_lexer": "ipython3",
   "version": "3.9.13"
  }
 },
 "nbformat": 4,
 "nbformat_minor": 5
}
