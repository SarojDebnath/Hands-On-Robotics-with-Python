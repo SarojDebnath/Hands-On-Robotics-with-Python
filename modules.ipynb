{
 "cells": [
  {
   "cell_type": "markdown",
   "id": "647adfa6-672b-4e25-b96c-9bb39930bb07",
   "metadata": {},
   "source": [
    "Built-In"
   ]
  },
  {
   "cell_type": "code",
   "execution_count": null,
   "id": "89a2f331-f982-4b40-9f59-498b6fe34cde",
   "metadata": {},
   "outputs": [],
   "source": [
    "import platform\n",
    "\n",
    "x = platform.system()\n",
    "print(x)\n",
    "print(dir(platform))"
   ]
  },
  {
   "cell_type": "code",
   "execution_count": 1,
   "id": "1b7c5f72-6626-4b06-8c24-31e3f50dc1dd",
   "metadata": {},
   "outputs": [],
   "source": [
    "import module\n",
    "#####"
   ]
  },
  {
   "cell_type": "code",
   "execution_count": null,
   "id": "753b0394-5375-43d7-915b-955376ad23cb",
   "metadata": {},
   "outputs": [],
   "source": []
  }
 ],
 "metadata": {
  "kernelspec": {
   "display_name": "Python 3 (ipykernel)",
   "language": "python",
   "name": "python3"
  },
  "language_info": {
   "codemirror_mode": {
    "name": "ipython",
    "version": 3
   },
   "file_extension": ".py",
   "mimetype": "text/x-python",
   "name": "python",
   "nbconvert_exporter": "python",
   "pygments_lexer": "ipython3",
   "version": "3.9.13"
  }
 },
 "nbformat": 4,
 "nbformat_minor": 5
}
