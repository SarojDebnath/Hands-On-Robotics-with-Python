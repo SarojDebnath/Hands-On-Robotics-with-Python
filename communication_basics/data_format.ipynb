{
 "cells": [
  {
   "cell_type": "code",
   "execution_count": 24,
   "id": "c6c03eb0-1d46-4267-8a88-a54fe243a5d6",
   "metadata": {},
   "outputs": [
    {
     "name": "stdout",
     "output_type": "stream",
     "text": [
      "[]\n"
     ]
    }
   ],
   "source": [
    "import xml.etree.ElementTree as ET\n",
    "def extract(filepath,tag):\n",
    "    try:\n",
    "        tree=ET.parse(filepath)\n",
    "        root=tree.getroot()\n",
    "        elements=root.findall(tag)\n",
    "        texts=[elem.text for elem in elements]\n",
    "        return texts\n",
    "    except ET.PasrseError as e:\n",
    "        print('Error in reading the XML file')\n",
    "    except Exception as e:\n",
    "        print(f'Exception: {e}')\n",
    "data=extract('xmltest.xml','the')\n",
    "print(data)"
   ]
  },
  {
   "cell_type": "code",
   "execution_count": 25,
   "id": "31533f10-505e-487d-89cc-691b214dacb0",
   "metadata": {
    "tags": []
   },
   "outputs": [],
   "source": [
    "import xml.etree.ElementTree as ET\n",
    "\n",
    "def addtag(filepath,tag,value):\n",
    "    tree=tree=ET.parse(filepath)\n",
    "    root=tree.getroot()\n",
    "    new_tag=ET.Element(tag)\n",
    "    new_tag.text=value\n",
    "    root.append(new_tag)\n",
    "    tree.write(filepath,encoding='utf-8')\n",
    "addtag('xmltest.xml','num','seven')"
   ]
  },
  {
   "cell_type": "code",
   "execution_count": 26,
   "id": "f0b7f64b-3703-4830-a8de-746e8157bbac",
   "metadata": {
    "tags": []
   },
   "outputs": [],
   "source": [
    "import json\n",
    "\n",
    "def readjson(filepath):\n",
    "    try:\n",
    "        with open(filepath,'r') as file:\n",
    "            config_data=json.load(file)\n",
    "        return config_data\n",
    "    except Exception as e:\n",
    "        print(f'Error as: {e}')\n",
    "        return {}\n",
    "def writejson(filepath,data):\n",
    "    with open(filepath,'w') as file:\n",
    "        json.dump(data,file,indent=4)"
   ]
  },
  {
   "cell_type": "code",
   "execution_count": 27,
   "id": "147be956-4551-4fb8-8039-9564fe86cec7",
   "metadata": {
    "tags": []
   },
   "outputs": [],
   "source": [
    "data1=readjson('jsontest.json')"
   ]
  },
  {
   "cell_type": "code",
   "execution_count": 28,
   "id": "7ecb64b7-2fde-45f5-a95a-a9c81c394921",
   "metadata": {
    "tags": []
   },
   "outputs": [
    {
     "name": "stdout",
     "output_type": "stream",
     "text": [
      "{'to': 'John', 'from': 'Jane', 'heading': 'Reminder', 'body': \"Don't forget our meeting tomorrow!\", 'cake': 0}\n"
     ]
    }
   ],
   "source": [
    "print(data1)"
   ]
  },
  {
   "cell_type": "code",
   "execution_count": 29,
   "id": "2e9d7e6e-34bc-406f-a55a-e272f0414244",
   "metadata": {
    "tags": []
   },
   "outputs": [],
   "source": [
    "data1['diamond']=[0,1,2]\n",
    "writejson('jsontest.json',data1)"
   ]
  },
  {
   "cell_type": "code",
   "execution_count": null,
   "id": "cb629f1a-2bbb-48f3-b0a8-bf68647ef96e",
   "metadata": {},
   "outputs": [],
   "source": []
  }
 ],
 "metadata": {
  "kernelspec": {
   "display_name": "Python 3 (ipykernel)",
   "language": "python",
   "name": "python3"
  },
  "language_info": {
   "codemirror_mode": {
    "name": "ipython",
    "version": 3
   },
   "file_extension": ".py",
   "mimetype": "text/x-python",
   "name": "python",
   "nbconvert_exporter": "python",
   "pygments_lexer": "ipython3",
   "version": "3.9.13"
  }
 },
 "nbformat": 4,
 "nbformat_minor": 5
}
