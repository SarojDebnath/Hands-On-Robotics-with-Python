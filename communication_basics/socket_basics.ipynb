{
 "cells": [
  {
   "cell_type": "markdown",
   "id": "52cd06db-7cf8-413c-b8fd-0eff8f3acbb4",
   "metadata": {},
   "source": [
    "Sockets and the socket API are used to transmit messages over a network, facilitating inter-process communication (IPC). This network can be either a logical, local network on the computer or a physical network connected to external systems, such as the Internet, which you access through your ISP.\n",
    "\n",
    "In this tutorial, you will learn to create:\n",
    "\n",
    "**A basic socket server and client communication**\n",
    "\n",
    "By the end of this tutorial, you will have a basic understanding of how to use the primary functions and methods in Python's socket module to develop your own client-server applications. You will also learn how to use a custom class to exchange messages and data between endpoints, enabling you to build and enhance your own applications."
   ]
  },
  {
   "cell_type": "code",
   "execution_count": null,
   "id": "a62866cc-2437-40a3-ad79-3c46687013c0",
   "metadata": {
    "tags": []
   },
   "outputs": [
    {
     "name": "stdout",
     "output_type": "stream",
     "text": [
      "Server listening on port 65432\n"
     ]
    }
   ],
   "source": [
    "import socket\n",
    "\n",
    "HOST = 'localhost'  # Standard loopback interface address (localhost)\n",
    "PORT = 65432        # Port to listen on (non-privileged ports are > 1023)\n",
    "\n",
    "server_socket = socket.socket(socket.AF_INET, socket.SOCK_STREAM)\n",
    "server_address = (HOST, PORT)\n",
    "\n",
    "server_socket.bind(server_address)\n",
    "server_socket.listen()\n",
    "print('Server listening on port %d' % PORT)\n",
    "\n",
    "while True:\n",
    "    conn, addr = server_socket.accept()\n",
    "    with conn:\n",
    "        print('Connected by', addr)\n",
    "        while True:\n",
    "            data = conn.recv(1024)\n",
    "            if not data:\n",
    "                break\n",
    "            message = data.decode()\n",
    "            if message.lower() == \"exit\":  # Check for exit message (case-insensitive)\n",
    "                print('Client disconnected (exit)')\n",
    "                break\n",
    "            print('Client:', message)\n",
    "            message = input(\"Enter message to client: \")\n",
    "            conn.sendall(message.encode())\n"
   ]
  },
  {
   "cell_type": "code",
   "execution_count": null,
   "id": "8810173d-004d-4b0d-9104-96226cc87549",
   "metadata": {
    "tags": []
   },
   "outputs": [],
   "source": [
    "import socket\n",
    "\n",
    "HOST = 'localhost'  # The server's hostname or IP address\n",
    "PORT = 65432        # The port used by the server\n",
    "\n",
    "client_socket = socket.socket(socket.AF_INET, socket.SOCK_STREAM)\n",
    "server_address = (HOST, PORT)\n",
    "client_socket.connect(server_address)\n",
    "\n",
    "while True:\n",
    "    message = input(\"Enter message (type 'exit' to quit): \")\n",
    "    if message.lower() == \"exit\":\n",
    "        client_socket.sendall(message.encode())\n",
    "        break\n",
    "    client_socket.sendall(message.encode())\n",
    "    data = client_socket.recv(1024)\n",
    "    print('Received:', data.decode())\n"
   ]
  },
  {
   "cell_type": "code",
   "execution_count": 8,
   "id": "f1c095ea-8b68-46d3-b787-576bec3da8c0",
   "metadata": {},
   "outputs": [
    {
     "name": "stdout",
     "output_type": "stream",
     "text": [
      "['C:/Users/sarojd/udemy/communication_basics/client.py', 'C:/Users/sarojd/udemy/communication_basics/data_format.ipynb', 'C:/Users/sarojd/udemy/communication_basics/filetransferclient.py', 'C:/Users/sarojd/udemy/communication_basics/foldertransferclient.py', 'C:/Users/sarojd/udemy/communication_basics/jsontest.json', 'C:/Users/sarojd/udemy/communication_basics/projectsocket.py', 'C:/Users/sarojd/udemy/communication_basics/socket_basics.ipynb', 'C:/Users/sarojd/udemy/communication_basics/xmltest.xml'] 8\n"
     ]
    }
   ],
   "source": [
    "import os\n",
    "folder='C:/Users/sarojd/udemy/communication_basics/'\n",
    "items=os.listdir(folder)\n",
    "files = [os.path.join(folder, item) for item in items if os.path.isfile(os.path.join(folder, item))]\n",
    "print(files)"
   ]
  },
  {
   "cell_type": "code",
   "execution_count": null,
   "id": "ba18ce53-9210-4cc6-8c9b-d2018898713f",
   "metadata": {},
   "outputs": [],
   "source": []
  }
 ],
 "metadata": {
  "kernelspec": {
   "display_name": "Python 3 (ipykernel)",
   "language": "python",
   "name": "python3"
  },
  "language_info": {
   "codemirror_mode": {
    "name": "ipython",
    "version": 3
   },
   "file_extension": ".py",
   "mimetype": "text/x-python",
   "name": "python",
   "nbconvert_exporter": "python",
   "pygments_lexer": "ipython3",
   "version": "3.11.4"
  }
 },
 "nbformat": 4,
 "nbformat_minor": 5
}
