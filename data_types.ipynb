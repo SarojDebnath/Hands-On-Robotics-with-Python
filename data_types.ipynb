{
 "cells": [
  {
   "cell_type": "code",
   "execution_count": null,
   "id": "1afe9e02-ebe0-45e2-952c-9f26f043f761",
   "metadata": {},
   "outputs": [],
   "source": [
    "print(\"Hello, World!\")"
   ]
  },
  {
   "cell_type": "code",
   "execution_count": null,
   "id": "5594bfdd-79e8-4516-98d0-ebef25aff5e7",
   "metadata": {},
   "outputs": [],
   "source": [
    "#This is a comment\n",
    "\n",
    "'''\n",
    "THis iS\n",
    "A\n",
    "MultiPles\n",
    "Line comment\n",
    "'''"
   ]
  },
  {
   "cell_type": "markdown",
   "id": "1126808f-0eb6-4843-84df-b1e60741c891",
   "metadata": {},
   "source": [
    "Variables"
   ]
  },
  {
   "cell_type": "code",
   "execution_count": null,
   "id": "b48bd461-806a-4d47-9937-7173c845c7da",
   "metadata": {},
   "outputs": [],
   "source": [
    "x = 5\n",
    "y = \"Hello, World!\"\n",
    "print(x)\n",
    "print(y)\n",
    "y=0\n",
    "print('Next Value: ',y)"
   ]
  },
  {
   "cell_type": "code",
   "execution_count": null,
   "id": "f35b1526-fbfa-4e8f-bec7-3657cc1f5e2b",
   "metadata": {},
   "outputs": [],
   "source": [
    "x = str(3)    \n",
    "y = int(3)    \n",
    "z = float(3)"
   ]
  },
  {
   "cell_type": "code",
   "execution_count": null,
   "id": "e4d0b48c-627a-44b5-8fa7-da3bb084d8b6",
   "metadata": {},
   "outputs": [],
   "source": [
    "x = 5\n",
    "y = \"John\"\n",
    "print(type(x))\n",
    "print(type(y))"
   ]
  },
  {
   "cell_type": "code",
   "execution_count": null,
   "id": "b72211fa-1d89-485b-bf5f-ba559de7f5d8",
   "metadata": {},
   "outputs": [],
   "source": [
    "x = \"John\"\n",
    "# is the same as\n",
    "x = 'John'"
   ]
  },
  {
   "cell_type": "code",
   "execution_count": null,
   "id": "35b882e0-ca20-4d67-bbb5-bd9ec7199ad3",
   "metadata": {},
   "outputs": [],
   "source": [
    "x = \"Hello World\"\t#str\n",
    "#x = 20\t#int\t\n",
    "#x = 20.5\t#float\t\n",
    "#x = 1j\t#complex\t\n",
    "#x = [\"apple\", \"banana\", \"cherry\"]\t#list\t\n",
    "#x = (\"apple\", \"banana\", \"cherry\")\t#tuple\t\n",
    "#x = range(6)\t#range\t\n",
    "#x = {\"name\" : \"John\", \"age\" : 36}\t#dict\t\n",
    "#x = {\"apple\", \"banana\", \"cherry\"}\t#set\t\n",
    "#x = frozenset({\"apple\", \"banana\", \"cherry\"})\t#frozenset\t\n",
    "#x = True\t#bool\t\n",
    "#x = b\"Hello\"\t#bytes\t\n",
    "#x = bytearray(5)\t#bytearray\t\n",
    "#x = None"
   ]
  }
 ],
 "metadata": {
  "kernelspec": {
   "display_name": "Python 3 (ipykernel)",
   "language": "python",
   "name": "python3"
  },
  "language_info": {
   "codemirror_mode": {
    "name": "ipython",
    "version": 3
   },
   "file_extension": ".py",
   "mimetype": "text/x-python",
   "name": "python",
   "nbconvert_exporter": "python",
   "pygments_lexer": "ipython3",
   "version": "3.9.13"
  }
 },
 "nbformat": 4,
 "nbformat_minor": 5
}
