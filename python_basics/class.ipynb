{
 "cells": [
  {
   "cell_type": "code",
   "execution_count": null,
   "id": "316bf33b-ac6b-4fd9-867c-eb543870bd4a",
   "metadata": {},
   "outputs": [],
   "source": [
    "class Person:\n",
    "  def __init__(self, name, age):\n",
    "    self.name = name\n",
    "    self.age = age\n",
    "\n",
    "p1 = Person(\"John\", 36)\n",
    "\n",
    "print(p1.name)\n",
    "print(p1.age)"
   ]
  },
  {
   "cell_type": "code",
   "execution_count": null,
   "id": "133e0b7b-f3f5-4244-ac8e-afbe855f5543",
   "metadata": {},
   "outputs": [],
   "source": [
    "class Person:\n",
    "  def __init__(self, name, age):\n",
    "    self.name = name\n",
    "    self.age = age\n",
    "\n",
    "p1 = Person(\"John\", 36)\n",
    "\n",
    "print(p1)"
   ]
  },
  {
   "cell_type": "markdown",
   "id": "dbd6313d-8d62-42ab-8625-c65248a6f371",
   "metadata": {},
   "source": [
    "__str()__"
   ]
  },
  {
   "cell_type": "code",
   "execution_count": null,
   "id": "9db5fd1b-1348-44cd-8075-005bca193e6e",
   "metadata": {},
   "outputs": [],
   "source": [
    "class Person:\n",
    "  def __init__(self, name, age):\n",
    "    self.name = name\n",
    "    self.age = age\n",
    "\n",
    "  def __str__(self):\n",
    "    return f\"{self.name}({self.age})\"\n",
    "\n",
    "p1 = Person(\"John\", 36)\n",
    "\n",
    "print(p1)"
   ]
  },
  {
   "cell_type": "markdown",
   "id": "4c5733f1-e929-4baa-83bf-0d1d3731d781",
   "metadata": {},
   "source": [
    "__methods__"
   ]
  },
  {
   "cell_type": "code",
   "execution_count": null,
   "id": "7dc66be3-1ea0-44c4-a7b3-1d8ac3646c24",
   "metadata": {},
   "outputs": [],
   "source": [
    "class Person:\n",
    "  def __init__(self, name, age):\n",
    "    self.name = name\n",
    "    self.age = age\n",
    "\n",
    "  def myfunc(self):\n",
    "    print(\"Hello my name is \" + self.name)\n",
    "\n",
    "p1 = Person(\"John\", 36)\n",
    "p1.myfunc()\n"
   ]
  },
  {
   "cell_type": "markdown",
   "id": "8fba85d0-b63b-429c-ab80-49d3ddf7b827",
   "metadata": {},
   "source": [
    "inheritance"
   ]
  },
  {
   "cell_type": "code",
   "execution_count": null,
   "id": "304ab745-a43c-437a-af51-32184add7171",
   "metadata": {},
   "outputs": [],
   "source": [
    "class Person:\n",
    "  def __init__(self, fname, lname):\n",
    "    self.firstname = fname\n",
    "    self.lastname = lname\n",
    "\n",
    "  def printname(self):\n",
    "    print(self.firstname, self.lastname)\n",
    "\n",
    "#Use the Person class to create an object, and then execute the printname method:\n",
    "\n",
    "x = Person(\"John\", \"Doe\")\n",
    "x.printname()"
   ]
  },
  {
   "cell_type": "code",
   "execution_count": null,
   "id": "66d7b003-a8cd-4449-a40d-a3ff70b85014",
   "metadata": {},
   "outputs": [],
   "source": [
    "class Student(Person):\n",
    "  pass"
   ]
  },
  {
   "cell_type": "code",
   "execution_count": null,
   "id": "d42c8d46-6c48-4a8e-830c-66de736b4983",
   "metadata": {},
   "outputs": [],
   "source": [
    "x = Student(\"Mike\", \"Olsen\")\n",
    "x.printname()"
   ]
  },
  {
   "cell_type": "code",
   "execution_count": null,
   "id": "c3995c8b-1dab-4cad-ad83-70842b44f51f",
   "metadata": {},
   "outputs": [],
   "source": [
    "class Student(Person):\n",
    "  def __init__(self, fname, lname):\n",
    "    Person.__init__(self, fname, lname)"
   ]
  },
  {
   "cell_type": "code",
   "execution_count": null,
   "id": "2990285b-194e-4939-ad43-ee669c2614af",
   "metadata": {},
   "outputs": [],
   "source": [
    "class Student(Person):\n",
    "  def __init__(self, fname, lname):\n",
    "    super().__init__(fname, lname)"
   ]
  },
  {
   "cell_type": "markdown",
   "id": "d505ef19-6e41-4511-a38b-6a67a90ee5cc",
   "metadata": {},
   "source": [
    "Polymorphism"
   ]
  },
  {
   "cell_type": "code",
   "execution_count": null,
   "id": "b63f884a-eeae-471e-9642-41fabf9997f4",
   "metadata": {},
   "outputs": [],
   "source": [
    "class Car:\n",
    "    def __init__(self, brand, model):\n",
    "        self.brand = brand\n",
    "        self.model = model\n",
    "\n",
    "    def move(self):\n",
    "        print(\"Drive!\")\n",
    "\n",
    "class Boat:\n",
    "    \n",
    "    def __init__(self, brand, model):\n",
    "        self.brand = brand\n",
    "        self.model = model\n",
    "\n",
    "    def move(self):\n",
    "        print(\"Sail!\")\n",
    "\n",
    "class Plane:\n",
    "    def __init__(self, brand, model):\n",
    "        self.brand = brand\n",
    "        self.model = model\n",
    "\n",
    "    def move(self):\n",
    "        print(\"Fly!\")\n",
    "\n",
    "car1 = Car(\"Ford\", \"Mustang\")       #Create a Car class\n",
    "boat1 = Boat(\"Ibiza\", \"Touring 20\") #Create a Boat class\n",
    "plane1 = Plane(\"Boeing\", \"747\")     #Create a Plane class\n",
    "\n",
    "for x in (car1, boat1, plane1):\n",
    "  x.move()"
   ]
  },
  {
   "cell_type": "markdown",
   "id": "ee38ac52-ba7f-4a63-89db-6b7ada55e580",
   "metadata": {},
   "source": [
    "Inheritance class polymorphism"
   ]
  },
  {
   "cell_type": "code",
   "execution_count": null,
   "id": "a1eb4ab2-a193-44f9-b25a-ca41b741a22c",
   "metadata": {},
   "outputs": [],
   "source": [
    "class Vehicle:\n",
    "    def __init__(self, brand, model):\n",
    "        self.brand = brand\n",
    "        self.model = model\n",
    "\n",
    "    def move(self):\n",
    "        print(\"Move!\")\n",
    "    \n",
    "class Car(Vehicle):\n",
    "    pass\n",
    "\n",
    "class Boat(Vehicle):\n",
    "    def move(self):\n",
    "        print(\"Sail!\")\n",
    "\n",
    "class Plane(Vehicle):\n",
    "    def move(self):\n",
    "        print(\"Fly!\")\n",
    "\n",
    "car1 = Car(\"Ford\", \"Mustang\")\n",
    "boat1 = Boat(\"Ibiza\", \"Touring 20\")\n",
    "plane1 = Plane(\"Boeing\", \"747\")\n",
    "\n",
    "for x in (car1, boat1, plane1):\n",
    "    print(x.brand)\n",
    "    print(x.model)\n",
    "    x.move()\n",
    "    "
   ]
  },
  {
   "cell_type": "code",
   "execution_count": null,
   "id": "45569ca0-951a-4dcf-ad51-a176b80efb80",
   "metadata": {},
   "outputs": [],
   "source": []
  },
  {
   "cell_type": "code",
   "execution_count": null,
   "id": "f3ff7907-208e-4b70-a65a-4a050dc02a43",
   "metadata": {},
   "outputs": [],
   "source": []
  },
  {
   "cell_type": "code",
   "execution_count": 2,
   "id": "e38618d8-cb25-44fb-a4f6-72908c9f1e32",
   "metadata": {},
   "outputs": [
    {
     "name": "stdout",
     "output_type": "stream",
     "text": [
      "8\n",
      "This dog is a golden retriever\n",
      "Buddy says woof!\n"
     ]
    }
   ],
   "source": [
    "class DOG:\n",
    "    def __init__(self,name,age,types):\n",
    "        self.name=name #Attributes\n",
    "        self.age=age\n",
    "        self.t=types\n",
    "    def bark(self):\n",
    "        print(f'This dog is a {self.t}')\n",
    "        return f'{self.name} says woof!'\n",
    "    def get_age(self):\n",
    "        return self.age\n",
    "dog1=DOG('Buddy',5,'golden retriever')\n",
    "dog2=DOG('Max',3,'german')\n",
    "totalage=dog1.get_age()+dog2.get_age()\n",
    "print(totalage)\n",
    "print(dog1.bark())"
   ]
  },
  {
   "cell_type": "markdown",
   "id": "b78faded-a7e9-4165-b9d4-dbafd62319e9",
   "metadata": {},
   "source": [
    "**Inheritance**"
   ]
  },
  {
   "cell_type": "code",
   "execution_count": 4,
   "id": "5eb10a2a-2527-4d92-9281-33faafefa566",
   "metadata": {
    "tags": []
   },
   "outputs": [
    {
     "name": "stdout",
     "output_type": "stream",
     "text": [
      "Animal sounds but john barks like woof!\n"
     ]
    }
   ],
   "source": [
    "class animal:\n",
    "    def __init__(self, name, age):\n",
    "        self.name=name\n",
    "        self.age=age\n",
    "    def speak(self):\n",
    "        return 'Animal sounds'\n",
    "class DOG(animal):\n",
    "    def __init__(self,name,age,breed):\n",
    "        super().__init__(name,age)\n",
    "        self.breed=breed\n",
    "    def speak(self):\n",
    "        parent_speak=super().speak()\n",
    "        return f'{parent_speak} but {self.name} barks like woof!'\n",
    "dog1=DOG('john',4,'german')\n",
    "print(dog1.speak())"
   ]
  },
  {
   "cell_type": "code",
   "execution_count": null,
   "id": "f0bf3612-7db0-4bf1-883b-0c36c8a16198",
   "metadata": {},
   "outputs": [],
   "source": []
  }
 ],
 "metadata": {
  "kernelspec": {
   "display_name": "Python 3 (ipykernel)",
   "language": "python",
   "name": "python3"
  },
  "language_info": {
   "codemirror_mode": {
    "name": "ipython",
    "version": 3
   },
   "file_extension": ".py",
   "mimetype": "text/x-python",
   "name": "python",
   "nbconvert_exporter": "python",
   "pygments_lexer": "ipython3",
   "version": "3.11.4"
  }
 },
 "nbformat": 4,
 "nbformat_minor": 5
}
