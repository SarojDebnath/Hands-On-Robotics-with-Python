{
 "cells": [
  {
   "cell_type": "code",
   "execution_count": 1,
   "id": "b6f2fcf4-d2d1-45ce-8751-fd235806d352",
   "metadata": {
    "tags": []
   },
   "outputs": [
    {
     "name": "stdout",
     "output_type": "stream",
     "text": [
      "Connection Status:  True\n",
      "Program:  True\n"
     ]
    }
   ],
   "source": [
    "import rtde_control\n",
    "import time\n",
    "rtde_c=rtde_control.RTDEControlInterface(\"192.168.0.133\")\n",
    "print('Connection Status: ',rtde_c.isConnected())\n",
    "print('Program: ',rtde_c.isProgramRunning())\n",
    "rtde_c.stopScript()\n",
    "rtde_c.disconnect()\n",
    "#print('Connection Status: ',rtde_c.isConnected())"
   ]
  },
  {
   "cell_type": "code",
   "execution_count": 15,
   "id": "b1dc6eae-0eea-4f2f-af29-858a7c5083f7",
   "metadata": {
    "tags": []
   },
   "outputs": [],
   "source": [
    "rtde_c.stopScript()\n",
    "rtde_c.disconnect()"
   ]
  },
  {
   "cell_type": "code",
   "execution_count": 1,
   "id": "e9da8b95-26e4-404c-8aa9-2f082fd0b08d",
   "metadata": {
    "tags": []
   },
   "outputs": [],
   "source": [
    "import rtde_control\n",
    "import time\n",
    "rtde_c=rtde_control.RTDEControlInterface(\"192.168.0.133\")\n",
    "#rtde_c.moveL([-0.189631, -0.609683, 0.460971, -0.0012213, 3.11627, 0.03889],0.75,0.5,True)\n",
    "#rtde_c.stopL(20.0)\n",
    "#rtde_c.moveJ([1.54, -1.517711, -2.00389663, -1.21649084, 1.59510657, -0.03100045],0.75,0.5,False)\n",
    "#rtde_c.stopJ(5.0)\n",
    "#rtde_c.speedL([0,0,0.8,0,0,0],0.5,3.0)\n",
    "#time.sleep(5)\n",
    "#rtde_c.moveUntilContact([0,0,0.8,0,0,0])\n",
    "#print(rtde_c.getTCPOffset())\n",
    "#rtde_c.setTcp([0,0,0,0,0,0])\n",
    "#print(rtde_c.getTCPOffset())\n",
    "#print(rtde_c.getInverseKinematics([-0.1743630362, -0.2086507510, 0.7523134073, 0.0201100958, -2.74377278, 1.5232575]))\n",
    "#print(rtde_c.getForwardKinematics([-1.5762751454319002, -0.6239481261652546, -2.209104536538022, -0.8657681349912565, 1.5787992844438286, -0.015694462413757826]))\n",
    "#rtde_c.freedriveMode([1,0,0,0,0,0])\n",
    "#time.sleep(5)\n",
    "#rtde_c.endFreedriveMode()\n",
    "\n",
    "rtde_c.sendCustomScriptFile('C:/Users/sarojd/udemy/ursim/spiral.script')\n",
    "rtde_c.stopScript()\n",
    "rtde_c.disconnect()"
   ]
  },
  {
   "cell_type": "code",
   "execution_count": null,
   "id": "6f4d67b3-9cc3-44da-98ad-a1c724cbdf0c",
   "metadata": {},
   "outputs": [],
   "source": []
  }
 ],
 "metadata": {
  "kernelspec": {
   "display_name": "Python 3 (ipykernel)",
   "language": "python",
   "name": "python3"
  },
  "language_info": {
   "codemirror_mode": {
    "name": "ipython",
    "version": 3
   },
   "file_extension": ".py",
   "mimetype": "text/x-python",
   "name": "python",
   "nbconvert_exporter": "python",
   "pygments_lexer": "ipython3",
   "version": "3.11.4"
  }
 },
 "nbformat": 4,
 "nbformat_minor": 5
}
