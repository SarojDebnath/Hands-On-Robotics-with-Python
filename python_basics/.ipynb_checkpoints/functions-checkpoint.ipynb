{
 "cells": [
  {
   "cell_type": "code",
   "execution_count": 6,
   "id": "e64d4549-501e-425a-974c-893df72f54e0",
   "metadata": {},
   "outputs": [
    {
     "name": "stdout",
     "output_type": "stream",
     "text": [
      "Hello from a function\n"
     ]
    }
   ],
   "source": [
    "def my_function():\n",
    "    print(\"Hello from a function\")\n",
    "my_function()"
   ]
  },
  {
   "cell_type": "code",
   "execution_count": 7,
   "id": "857ea022-5306-4f3c-8bcc-971390488bac",
   "metadata": {},
   "outputs": [
    {
     "name": "stdout",
     "output_type": "stream",
     "text": [
      "Hello Emil\n",
      "Hello Tobias\n",
      "Hello Linus\n"
     ]
    }
   ],
   "source": [
    "def my_function(fname):\n",
    "  print('Hello '+fname)\n",
    "\n",
    "my_function(\"Emil\")\n",
    "my_function(\"Tobias\")\n",
    "my_function(\"Linus\")"
   ]
  },
  {
   "cell_type": "markdown",
   "id": "258423e0-ce76-4d0c-80df-a7572088ece8",
   "metadata": {},
   "source": [
    "**Args**"
   ]
  },
  {
   "cell_type": "code",
   "execution_count": 10,
   "id": "18fcf6c4-5b94-4e97-98ba-ad0b484f68db",
   "metadata": {
    "tags": []
   },
   "outputs": [
    {
     "name": "stdout",
     "output_type": "stream",
     "text": [
      "(1, 2, 3)\n",
      "1\n",
      "2\n",
      "3\n",
      "('a', 'b', 2, 2.5)\n",
      "a\n",
      "b\n",
      "2\n",
      "2.5\n"
     ]
    }
   ],
   "source": [
    "def my_function(*args):#args#tuple\n",
    "    print(args)\n",
    "    for arg in args:\n",
    "        print(arg)\n",
    "\n",
    "my_function(1, 2, 3)  # Output: 1 2 3\n",
    "my_function('a', 'b',2,2.5)  # Output: a b \n"
   ]
  },
  {
   "cell_type": "code",
   "execution_count": 13,
   "id": "01c322ea-da93-4862-bdbc-c73c55d4b757",
   "metadata": {},
   "outputs": [
    {
     "name": "stdout",
     "output_type": "stream",
     "text": [
      "The youngest child is Tobias\n"
     ]
    }
   ],
   "source": [
    "def my_function(*kids):\n",
    "  print(\"The youngest child is \" + kids[1])\n",
    "\n",
    "my_function(\"Emil\", \"Tobias\", \"Linus\")"
   ]
  },
  {
   "cell_type": "markdown",
   "id": "305abec8-8e10-4906-8c02-ec6789c26a6c",
   "metadata": {},
   "source": [
    "**kwargs**"
   ]
  },
  {
   "cell_type": "code",
   "execution_count": 14,
   "id": "f2fc6999-eaef-4773-9310-ab77ceabdd74",
   "metadata": {
    "tags": []
   },
   "outputs": [
    {
     "name": "stdout",
     "output_type": "stream",
     "text": [
      "{'name': 'John', 'age': 30, 'city': 'New York', 'hobby': 'football'}\n",
      "name: John\n",
      "age: 30\n",
      "city: New York\n",
      "hobby: football\n"
     ]
    }
   ],
   "source": [
    "def my_function(**kwargs):\n",
    "    print(kwargs)\n",
    "    for key, value in kwargs.items():\n",
    "        print(f\"{key}: {value}\")\n",
    "\n",
    "my_function(name=\"John\", age=30, city=\"New York\",hobby='football')"
   ]
  },
  {
   "cell_type": "code",
   "execution_count": 17,
   "id": "d539e5d8-fb98-438f-b359-fb6bb6c149eb",
   "metadata": {},
   "outputs": [
    {
     "name": "stdout",
     "output_type": "stream",
     "text": [
      "His last name is Refsnes\n"
     ]
    }
   ],
   "source": [
    "def my_function(**kid):\n",
    "  print(\"His last name is \" + kid[\"lame\"])\n",
    "\n",
    "my_function(fname = \"Tobias\", lame = \"Refsnes\")"
   ]
  },
  {
   "cell_type": "markdown",
   "id": "64b4cde7-36b8-4bff-939c-6c2735a3cda2",
   "metadata": {},
   "source": [
    "**Combining args and kwargs**"
   ]
  },
  {
   "cell_type": "code",
   "execution_count": 18,
   "id": "27e17aee-0193-4d94-86d0-086e2f848603",
   "metadata": {
    "tags": []
   },
   "outputs": [
    {
     "name": "stdout",
     "output_type": "stream",
     "text": [
      "1\n",
      "2\n",
      "3\n",
      "name: John\n",
      "age: 30\n"
     ]
    }
   ],
   "source": [
    "def my_function(*args, **kwargs):\n",
    "    for arg in args:\n",
    "        print(arg)\n",
    "    for key, value in kwargs.items():\n",
    "        print(f\"{key}: {value}\")\n",
    "\n",
    "my_function(1, 2, 3, name=\"John\", age=30)"
   ]
  },
  {
   "cell_type": "markdown",
   "id": "ac8ed16c-b082-4f37-a6c4-74174355444f",
   "metadata": {},
   "source": [
    "Recursive"
   ]
  },
  {
   "cell_type": "code",
   "execution_count": 22,
   "id": "bf091b8c-1a09-4dc1-9ae0-ba6b84fdd232",
   "metadata": {},
   "outputs": [
    {
     "name": "stdout",
     "output_type": "stream",
     "text": [
      "120\n"
     ]
    }
   ],
   "source": [
    "def fact(n):\n",
    "    if n==1 or n==0:\n",
    "        return 1\n",
    "    else:\n",
    "        return n*fact(n-1)#3*2*1\n",
    "print(fact(5))"
   ]
  },
  {
   "cell_type": "code",
   "execution_count": 19,
   "id": "93bb347e-802b-4d3b-916c-958ca165b475",
   "metadata": {},
   "outputs": [
    {
     "name": "stdout",
     "output_type": "stream",
     "text": [
      "14\n"
     ]
    }
   ],
   "source": [
    "def add(a,b):\n",
    "    return a+b\n",
    "print(add(8,6))"
   ]
  },
  {
   "cell_type": "code",
   "execution_count": null,
   "id": "3417ace6-1fee-4dd6-951e-da66b99ce8bd",
   "metadata": {},
   "outputs": [],
   "source": []
  }
 ],
 "metadata": {
  "kernelspec": {
   "display_name": "Python 3 (ipykernel)",
   "language": "python",
   "name": "python3"
  },
  "language_info": {
   "codemirror_mode": {
    "name": "ipython",
    "version": 3
   },
   "file_extension": ".py",
   "mimetype": "text/x-python",
   "name": "python",
   "nbconvert_exporter": "python",
   "pygments_lexer": "ipython3",
   "version": "3.11.4"
  }
 },
 "nbformat": 4,
 "nbformat_minor": 5
}
