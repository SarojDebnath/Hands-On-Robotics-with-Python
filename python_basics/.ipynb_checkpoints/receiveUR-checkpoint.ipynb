{
 "cells": [
  {
   "cell_type": "code",
   "execution_count": 24,
   "id": "8ab11f69-46f9-48eb-8ecc-f2074e1e0c16",
   "metadata": {
    "tags": []
   },
   "outputs": [
    {
     "name": "stdout",
     "output_type": "stream",
     "text": [
      "Output Bits: 163968\n",
      "000000010000000101\n"
     ]
    }
   ],
   "source": [
    "import rtde_receive\n",
    "import math\n",
    "rtde_r=rtde_receive.RTDEReceiveInterface(\"192.168.0.133\")\n",
    "#print('Actual Pose:',rtde_r.getActualTCPPose())\n",
    "#k=rtde_r.getActualQ()\n",
    "#print('Actual Joints:',k)\n",
    "#print('Joints in degrees: ',list(map(lambda x:math.degrees(x),k)))\n",
    "#print('DO at 7: ',rtde_r.getDigitalOutState(7))\n",
    "#\n",
    "#print('DI at 7: ',rtde_r.getDigitalInState(7))\n",
    "#print('Speed:',rtde_r.getActualTCPSpeed())\n",
    "#print('Force:',rtde_r.getActualTCPForce())\n",
    "print('Output Bits:',rtde_r.getActualDigitalOutputBits())\n",
    "out=bin(rtde_r.getActualDigitalOutputBits())[2:]\n",
    "out=out[::-1]\n",
    "print(out)\n",
    "rtde_r.disconnect()"
   ]
  },
  {
   "cell_type": "code",
   "execution_count": 27,
   "id": "e9ad4b06-82ef-42ef-9e1b-0d4b19fb60ad",
   "metadata": {
    "tags": []
   },
   "outputs": [],
   "source": [
    "import rtde_io\n",
    "rtde_io=rtde_io.RTDEIOInterface(\"192.168.0.133\")\n",
    "rtde_io.setStandardDigitalOut(7,True)\n",
    "rtde_io.setToolDigitalOut(0,True)\n",
    "rtde_io.setAnalogOutputCurrent(0,0.5)\n",
    "rtde_io.setAnalogOutputVoltage(1,0.5)\n",
    "rtde_io.setConfigurableDigitalOut(1,True)\n",
    "rtde_io.disconnect()"
   ]
  },
  {
   "cell_type": "code",
   "execution_count": null,
   "id": "d7b32120-6ec5-436b-ad9d-290e083600ff",
   "metadata": {},
   "outputs": [],
   "source": []
  }
 ],
 "metadata": {
  "kernelspec": {
   "display_name": "Python 3 (ipykernel)",
   "language": "python",
   "name": "python3"
  },
  "language_info": {
   "codemirror_mode": {
    "name": "ipython",
    "version": 3
   },
   "file_extension": ".py",
   "mimetype": "text/x-python",
   "name": "python",
   "nbconvert_exporter": "python",
   "pygments_lexer": "ipython3",
   "version": "3.9.13"
  }
 },
 "nbformat": 4,
 "nbformat_minor": 5
}
