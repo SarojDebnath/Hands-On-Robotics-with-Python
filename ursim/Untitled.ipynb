{
 "cells": [
  {
   "cell_type": "code",
   "execution_count": 6,
   "id": "68a9185a-243a-4052-8f1c-9330512710fc",
   "metadata": {
    "tags": []
   },
   "outputs": [],
   "source": [
    "import cv2\n",
    "import time\n",
    "face_cascade = cv2.CascadeClassifier(cv2.data.haarcascades + 'haarcascade_frontalface_default.xml')\n",
    "cap = cv2.VideoCapture(0)\n",
    "cap.set(3,640)\n",
    "cap.set(4,480)\n",
    "\n",
    "t_start=time.time()\n",
    "while True:\n",
    "    ret, frame = cap.read()\n",
    "    gray = cv2.cvtColor(frame, cv2.COLOR_BGR2GRAY)\n",
    "    faces = face_cascade.detectMultiScale(gray, scaleFactor=1.1, minNeighbors=5, minSize=(30, 30))\n",
    "    try:\n",
    "        for (x, y, w, h) in faces:\n",
    "            cv2.rectangle(frame, (x, y), (x + w, y + h), (255, 0, 0), 2)\n",
    "            x_center,y_center=int(x+w/2),int(y+h/2)\n",
    "    except:\n",
    "        pass\n",
    "    cv2.imshow('Face Tracking', frame)\n",
    "    # Break the loop if 'q' is pressed\n",
    "    if cv2.waitKey(1) & 0xFF == 27 or time.time()-t_start>=10:\n",
    "        break\n",
    "cap.release()\n",
    "cv2.destroyAllWindows()"
   ]
  },
  {
   "cell_type": "code",
   "execution_count": 5,
   "id": "a021c543-5450-4a8e-bd52-ed38a49ca3b7",
   "metadata": {
    "tags": []
   },
   "outputs": [
    {
     "name": "stdout",
     "output_type": "stream",
     "text": [
      "Connected to Modbus server\n",
      "Close Connection None\n"
     ]
    }
   ],
   "source": [
    "from pymodbus.client import ModbusTcpClient\n",
    "import time\n",
    "\n",
    "client = ModbusTcpClient('192.168.0.133', port=502)\n",
    "connection = client.connect()\n",
    "\n",
    "if connection:\n",
    "    print(\"Connected to Modbus server\")\n",
    "    client.write_coil(23,True)\n",
    "    t_start=time.time()\n",
    "    for i in range(10):\n",
    "        client.write_register(128,i)\n",
    "        client.write_register(129,i+1)\n",
    "        time.sleep(1)\n",
    "\n",
    "    client.write_coil(23,False)\n",
    "    print('Close Connection')\n",
    "    client.close()\n",
    "    "
   ]
  },
  {
   "cell_type": "code",
   "execution_count": null,
   "id": "bd5b4c15-5ceb-4f13-975e-18db763c2e89",
   "metadata": {},
   "outputs": [],
   "source": []
  }
 ],
 "metadata": {
  "kernelspec": {
   "display_name": "Python 3 (ipykernel)",
   "language": "python",
   "name": "python3"
  },
  "language_info": {
   "codemirror_mode": {
    "name": "ipython",
    "version": 3
   },
   "file_extension": ".py",
   "mimetype": "text/x-python",
   "name": "python",
   "nbconvert_exporter": "python",
   "pygments_lexer": "ipython3",
   "version": "3.11.4"
  }
 },
 "nbformat": 4,
 "nbformat_minor": 5
}
